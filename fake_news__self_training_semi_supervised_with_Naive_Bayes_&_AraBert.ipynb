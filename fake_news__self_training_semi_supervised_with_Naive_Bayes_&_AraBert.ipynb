{
  "cells": [
    {
      "cell_type": "markdown",
      "metadata": {
        "id": "view-in-github",
        "colab_type": "text"
      },
      "source": [
        "<a href=\"https://colab.research.google.com/github/safa-abidi/NLP-sentimentAnalysis-AraBert/blob/main/fake_news__self_training_semi_supervised_with_Naive_Bayes_%26_AraBert.ipynb\" target=\"_parent\"><img src=\"https://colab.research.google.com/assets/colab-badge.svg\" alt=\"Open In Colab\"/></a>"
      ]
    },
    {
      "cell_type": "markdown",
      "metadata": {
        "id": "L0D-38rHTB7k"
      },
      "source": [
        "# imports"
      ],
      "id": "L0D-38rHTB7k"
    },
    {
      "cell_type": "code",
      "execution_count": null,
      "metadata": {
        "colab": {
          "base_uri": "https://localhost:8080/"
        },
        "id": "ENOVRcdlVV00",
        "outputId": "55c28c66-8582-404e-bb10-c42798ce1c91"
      },
      "outputs": [
        {
          "output_type": "stream",
          "name": "stdout",
          "text": [
            "Looking in indexes: https://pypi.org/simple, https://us-python.pkg.dev/colab-wheels/public/simple/\n",
            "Requirement already satisfied: transformers in /usr/local/lib/python3.9/dist-packages (4.27.2)\n",
            "Requirement already satisfied: requests in /usr/local/lib/python3.9/dist-packages (from transformers) (2.27.1)\n",
            "Requirement already satisfied: tqdm>=4.27 in /usr/local/lib/python3.9/dist-packages (from transformers) (4.65.0)\n",
            "Requirement already satisfied: numpy>=1.17 in /usr/local/lib/python3.9/dist-packages (from transformers) (1.22.4)\n",
            "Requirement already satisfied: pyyaml>=5.1 in /usr/local/lib/python3.9/dist-packages (from transformers) (6.0)\n",
            "Requirement already satisfied: filelock in /usr/local/lib/python3.9/dist-packages (from transformers) (3.10.0)\n",
            "Requirement already satisfied: huggingface-hub<1.0,>=0.11.0 in /usr/local/lib/python3.9/dist-packages (from transformers) (0.13.3)\n",
            "Requirement already satisfied: regex!=2019.12.17 in /usr/local/lib/python3.9/dist-packages (from transformers) (2022.10.31)\n",
            "Requirement already satisfied: packaging>=20.0 in /usr/local/lib/python3.9/dist-packages (from transformers) (23.0)\n",
            "Requirement already satisfied: tokenizers!=0.11.3,<0.14,>=0.11.1 in /usr/local/lib/python3.9/dist-packages (from transformers) (0.13.2)\n",
            "Requirement already satisfied: typing-extensions>=3.7.4.3 in /usr/local/lib/python3.9/dist-packages (from huggingface-hub<1.0,>=0.11.0->transformers) (4.5.0)\n",
            "Requirement already satisfied: urllib3<1.27,>=1.21.1 in /usr/local/lib/python3.9/dist-packages (from requests->transformers) (1.26.15)\n",
            "Requirement already satisfied: idna<4,>=2.5 in /usr/local/lib/python3.9/dist-packages (from requests->transformers) (3.4)\n",
            "Requirement already satisfied: certifi>=2017.4.17 in /usr/local/lib/python3.9/dist-packages (from requests->transformers) (2022.12.7)\n",
            "Requirement already satisfied: charset-normalizer~=2.0.0 in /usr/local/lib/python3.9/dist-packages (from requests->transformers) (2.0.12)\n"
          ]
        }
      ],
      "source": [
        "!pip install transformers"
      ],
      "id": "ENOVRcdlVV00"
    },
    {
      "cell_type": "code",
      "execution_count": null,
      "metadata": {
        "id": "523f70b1"
      },
      "outputs": [],
      "source": [
        "import pandas as pd\n",
        "import numpy as np\n",
        "import plotly.express as px\n",
        "import xml.etree.ElementTree as ET\n",
        "import os\n",
        "import torch\n",
        "from typing import Any, Dict, List, Callable, Optional, Tuple, Union\n",
        "\n",
        "from sklearn.model_selection import train_test_split \n",
        "from sklearn.svm import SVC\n",
        "from sklearn.base import BaseEstimator, TransformerMixin\n",
        "from sklearn.semi_supervised import SelfTrainingClassifier\n",
        "from sklearn.metrics import classification_report\n",
        "from sklearn.metrics import f1_score\n",
        "\n",
        "import transformers\n",
        "from transformers import BertModel, BertTokenizer"
      ],
      "id": "523f70b1"
    },
    {
      "cell_type": "code",
      "execution_count": null,
      "metadata": {
        "colab": {
          "base_uri": "https://localhost:8080/"
        },
        "id": "0PGSFbx9XXcl",
        "outputId": "a1d55f71-d10c-43cc-9a18-ab43ebaed41d"
      },
      "outputs": [
        {
          "output_type": "stream",
          "name": "stdout",
          "text": [
            "Drive already mounted at /content/drive; to attempt to forcibly remount, call drive.mount(\"/content/drive\", force_remount=True).\n"
          ]
        }
      ],
      "source": [
        "from google.colab import drive\n",
        "drive.mount('/content/drive') "
      ],
      "id": "0PGSFbx9XXcl"
    },
    {
      "cell_type": "markdown",
      "metadata": {
        "id": "XbMQ_lKBSR9k"
      },
      "source": [
        "# Dataset: labelled and unlabled"
      ],
      "id": "XbMQ_lKBSR9k"
    },
    {
      "cell_type": "code",
      "execution_count": null,
      "metadata": {
        "colab": {
          "base_uri": "https://localhost:8080/"
        },
        "id": "PTNtkC8bVxiT",
        "outputId": "23b94a9c-6849-474c-9d20-bfaad5c7653e"
      },
      "outputs": [
        {
          "output_type": "stream",
          "name": "stdout",
          "text": [
            "/content/drive/MyDrive/datasets\n"
          ]
        }
      ],
      "source": [
        "DATASETS_PATH = '/content/drive/MyDrive/'\n",
        "\n",
        "%cd /content/drive/MyDrive/datasets\n",
        "\n",
        "path = 'dataset_arabic_translated'\n",
        "file_list = os.listdir(path)\n",
        "\n",
        "data_frames =[]\n",
        "\n",
        "for filename in file_list:\n",
        "    if filename.endswith('.xlsx'):\n",
        "        file_path = os.path.join(path, filename)\n",
        "        data = pd.read_excel(file_path)\n",
        "        data = data[data['Review'].notnull()]\n",
        "        data_frames.append(data)\n",
        " \n",
        "labeled_dataset = pd.concat(data_frames)\n",
        "\n",
        "# Parse the XML file\n",
        "tree = ET.parse('SemEval2016_arabic/AR_Hotels_Train_SB1.xml')\n",
        "root = tree.getroot()\n",
        "\n",
        "# Extract reviews from XML and add to list of tuples\n",
        "reviews = []\n",
        "for review in root.findall('Review'):\n",
        "    review_text = ''\n",
        "    for sentence in review.findall('sentences/sentence'):\n",
        "        review_text += sentence.find('text').text.strip() + ' '\n",
        "    reviews.append((review_text, -1))\n",
        "\n",
        "# Create a pandas DataFrame from the list of tuples\n",
        "unlabeled_dataset = pd.DataFrame(reviews, columns=['Review', 'Class'])\n",
        "\n",
        "df = pd.concat([labeled_dataset, unlabeled_dataset], axis=0)\n",
        "# Reset the index of the concatenated DataFrame\n",
        "df = df.reset_index(drop=True)\n",
        "\n",
        "#df.to_csv (\"Merged_Arabic_Dataset.csv\", index = None,header=True)\n"
      ],
      "id": "PTNtkC8bVxiT"
    },
    {
      "cell_type": "code",
      "source": [
        "print(labeled_dataset)"
      ],
      "metadata": {
        "colab": {
          "base_uri": "https://localhost:8080/"
        },
        "id": "hoczTOyjEFU0",
        "outputId": "036bb00e-24cd-4877-b77f-8ddf20feff40"
      },
      "id": "hoczTOyjEFU0",
      "execution_count": null,
      "outputs": [
        {
          "output_type": "stream",
          "name": "stdout",
          "text": [
            "    Hotel name                                             Review Source  \\\n",
            "0      Affinia  فندق Affinia Chicago هو أحد أسوأ الفنادق التي ...  Mturk   \n",
            "1      Affinia  مكثت في Affina Chicago للاحتفال بالذكرى السنوي...  Mturk   \n",
            "2      Affinia  من الواضح أن فندق Affinia في شيكاغو يخدم ضيوف ...  Mturk   \n",
            "3      Affinia  محبط للغاية في إقامتنا. هذا الفندق لا يشبه ما ...  Mturk   \n",
            "4      Affinia  كان فندق Affinia في شيكاغو أحد أكثر الفنادق إث...  Mturk   \n",
            "..         ...                                                ...    ...   \n",
            "75  Ambassador  نحن نعيش أسفل المبنى من الفندق. لقد رتبنا إنشا...    Web   \n",
            "76  Ambassador  كن مستعدا الفندق قديم. إنه في القائمة التاريخي...    Web   \n",
            "77  Ambassador  أنا أحب Ambassador إيست ، صحيح أنها كبيرة في ا...    Web   \n",
            "78  Ambassador  رائع!! من أين أبدأ؟ حجزت هذا الفندق من خلال مو...    Web   \n",
            "79  Ambassador  لقد عدنا للتو من عطلة نهاية أسبوع شديدة البرود...    Web   \n",
            "\n",
            "   Opinion  Class  Unnamed: 5 Hyatt  \n",
            "0      نفي   خادع         NaN   NaN  \n",
            "1      نفي   خادع         NaN   NaN  \n",
            "2      نفي   خادع         NaN   NaN  \n",
            "3      نفي   خادع         NaN   NaN  \n",
            "4      نفي   خادع         NaN   NaN  \n",
            "..     ...    ...         ...   ...  \n",
            "75  إيجابي  صادقة         NaN   NaN  \n",
            "76  إيجابي  صادقة         NaN   NaN  \n",
            "77  إيجابي  صادقة         NaN   NaN  \n",
            "78  إيجابي  صادقة         NaN   NaN  \n",
            "79  إيجابي  صادقة         NaN   NaN  \n",
            "\n",
            "[1600 rows x 7 columns]\n"
          ]
        }
      ]
    },
    {
      "cell_type": "code",
      "source": [
        "print(unlabeled_dataset)"
      ],
      "metadata": {
        "colab": {
          "base_uri": "https://localhost:8080/"
        },
        "id": "cQ3Q5eDcEL8u",
        "outputId": "08a07b19-5e67-49ac-ea30-103912947f46"
      },
      "id": "cQ3Q5eDcEL8u",
      "execution_count": null,
      "outputs": [
        {
          "output_type": "stream",
          "name": "stdout",
          "text": [
            "                                                 Review  Class\n",
            "0     أنصح بالنوم وليس تناول الطعام  موقع مثالي للإق...     -1\n",
            "1     لمسة بحرية  جميل وظريفة، فندق تقليدي في المدين...     -1\n",
            "2     من افضل فنادق المدينه المنوره انصح وبشده من ير...     -1\n",
            "3     من افضل الفنادق التي تجعلك تشتاق الي العرده ال...     -1\n",
            "4     فندق رائع الفندق اكثر من رائع وخصوصا مستوى الخ...     -1\n",
            "...                                                 ...    ...\n",
            "1834  اكثر من رائع كما في العنوان الفندق اكثر من رائ...     -1\n",
            "1835  النظافة سيئة. حمام قذر. الموقع 10 دقائق إلى أق...     -1\n",
            "1836  احصل على معاملة ملكية  أفضل ضيافة يمكن أن تحصل...     -1\n",
            "1837  الفندق الأروع والأجمل في ماليزيا فندق ومنتجع ر...     -1\n",
            "1838  أفضل إقامة في فندق صغير إقامتنا دامت لمدة يومي...     -1\n",
            "\n",
            "[1839 rows x 2 columns]\n"
          ]
        }
      ]
    },
    {
      "cell_type": "code",
      "source": [
        "print(df)"
      ],
      "metadata": {
        "colab": {
          "base_uri": "https://localhost:8080/"
        },
        "id": "wUZU_YiREOmB",
        "outputId": "380e8ddd-aa38-4740-ed60-bcd28c522f2c"
      },
      "id": "wUZU_YiREOmB",
      "execution_count": null,
      "outputs": [
        {
          "output_type": "stream",
          "name": "stdout",
          "text": [
            "     Hotel name                                             Review Source  \\\n",
            "0       Affinia  فندق Affinia Chicago هو أحد أسوأ الفنادق التي ...  Mturk   \n",
            "1       Affinia  مكثت في Affina Chicago للاحتفال بالذكرى السنوي...  Mturk   \n",
            "2       Affinia  من الواضح أن فندق Affinia في شيكاغو يخدم ضيوف ...  Mturk   \n",
            "3       Affinia  محبط للغاية في إقامتنا. هذا الفندق لا يشبه ما ...  Mturk   \n",
            "4       Affinia  كان فندق Affinia في شيكاغو أحد أكثر الفنادق إث...  Mturk   \n",
            "...         ...                                                ...    ...   \n",
            "3434        NaN  اكثر من رائع كما في العنوان الفندق اكثر من رائ...    NaN   \n",
            "3435        NaN  النظافة سيئة. حمام قذر. الموقع 10 دقائق إلى أق...    NaN   \n",
            "3436        NaN  احصل على معاملة ملكية  أفضل ضيافة يمكن أن تحصل...    NaN   \n",
            "3437        NaN  الفندق الأروع والأجمل في ماليزيا فندق ومنتجع ر...    NaN   \n",
            "3438        NaN  أفضل إقامة في فندق صغير إقامتنا دامت لمدة يومي...    NaN   \n",
            "\n",
            "     Opinion Class  Unnamed: 5 Hyatt  \n",
            "0        نفي  خادع         NaN   NaN  \n",
            "1        نفي  خادع         NaN   NaN  \n",
            "2        نفي  خادع         NaN   NaN  \n",
            "3        نفي  خادع         NaN   NaN  \n",
            "4        نفي  خادع         NaN   NaN  \n",
            "...      ...   ...         ...   ...  \n",
            "3434     NaN    -1         NaN   NaN  \n",
            "3435     NaN    -1         NaN   NaN  \n",
            "3436     NaN    -1         NaN   NaN  \n",
            "3437     NaN    -1         NaN   NaN  \n",
            "3438     NaN    -1         NaN   NaN  \n",
            "\n",
            "[3439 rows x 7 columns]\n"
          ]
        }
      ]
    },
    {
      "cell_type": "code",
      "execution_count": null,
      "metadata": {
        "id": "ry29_UAiV20-"
      },
      "outputs": [],
      "source": [
        "## Encode the dataset labels\n",
        "df['Label'] = df.apply(lambda x: 0 if x['Class'] == 'خادع' else 1 if x['Class'] == 'صادقة' else -1, axis=1)"
      ],
      "id": "ry29_UAiV20-"
    },
    {
      "cell_type": "code",
      "source": [
        "print(df)"
      ],
      "metadata": {
        "id": "5CopVDc2Puzt",
        "outputId": "678b6be7-379d-425c-f31f-f918d3907dd7",
        "colab": {
          "base_uri": "https://localhost:8080/"
        }
      },
      "id": "5CopVDc2Puzt",
      "execution_count": null,
      "outputs": [
        {
          "output_type": "stream",
          "name": "stdout",
          "text": [
            "     Hotel name                                             Review Source  \\\n",
            "0       Affinia  فندق Affinia Chicago هو أحد أسوأ الفنادق التي ...  Mturk   \n",
            "1       Affinia  مكثت في Affina Chicago للاحتفال بالذكرى السنوي...  Mturk   \n",
            "2       Affinia  من الواضح أن فندق Affinia في شيكاغو يخدم ضيوف ...  Mturk   \n",
            "3       Affinia  محبط للغاية في إقامتنا. هذا الفندق لا يشبه ما ...  Mturk   \n",
            "4       Affinia  كان فندق Affinia في شيكاغو أحد أكثر الفنادق إث...  Mturk   \n",
            "...         ...                                                ...    ...   \n",
            "3434        NaN  اكثر من رائع كما في العنوان الفندق اكثر من رائ...    NaN   \n",
            "3435        NaN  النظافة سيئة. حمام قذر. الموقع 10 دقائق إلى أق...    NaN   \n",
            "3436        NaN  احصل على معاملة ملكية  أفضل ضيافة يمكن أن تحصل...    NaN   \n",
            "3437        NaN  الفندق الأروع والأجمل في ماليزيا فندق ومنتجع ر...    NaN   \n",
            "3438        NaN  أفضل إقامة في فندق صغير إقامتنا دامت لمدة يومي...    NaN   \n",
            "\n",
            "     Opinion Class  Unnamed: 5 Hyatt  Label  \n",
            "0        نفي  خادع         NaN   NaN      0  \n",
            "1        نفي  خادع         NaN   NaN      0  \n",
            "2        نفي  خادع         NaN   NaN      0  \n",
            "3        نفي  خادع         NaN   NaN      0  \n",
            "4        نفي  خادع         NaN   NaN      0  \n",
            "...      ...   ...         ...   ...    ...  \n",
            "3434     NaN    -1         NaN   NaN     -1  \n",
            "3435     NaN    -1         NaN   NaN     -1  \n",
            "3436     NaN    -1         NaN   NaN     -1  \n",
            "3437     NaN    -1         NaN   NaN     -1  \n",
            "3438     NaN    -1         NaN   NaN     -1  \n",
            "\n",
            "[3439 rows x 8 columns]\n"
          ]
        }
      ]
    },
    {
      "cell_type": "code",
      "execution_count": null,
      "metadata": {
        "colab": {
          "base_uri": "https://localhost:8080/"
        },
        "id": "ZzjeYA03WG9O",
        "outputId": "796cd8d4-7e71-43bd-c21a-930a53b044ea"
      },
      "outputs": [
        {
          "output_type": "stream",
          "name": "stdout",
          "text": [
            "Size of train dataframe:  2751\n",
            "Size of test dataframe:  688\n"
          ]
        }
      ],
      "source": [
        "# data split\n",
        "df_train, df_test = train_test_split(df, train_size=0.8, random_state=0)\n",
        "print('Size of train dataframe: ', df_train.shape[0])\n",
        "print('Size of test dataframe: ', df_test.shape[0])"
      ],
      "id": "ZzjeYA03WG9O"
    },
    {
      "cell_type": "markdown",
      "metadata": {
        "id": "Avg8-cR5UG-F"
      },
      "source": [
        "# BERT transformer"
      ],
      "id": "Avg8-cR5UG-F"
    },
    {
      "cell_type": "code",
      "execution_count": null,
      "metadata": {
        "id": "0c861dac"
      },
      "outputs": [],
      "source": [
        "class BertTransformer(BaseEstimator, TransformerMixin):\n",
        "    def __init__(\n",
        "        self,\n",
        "        tokenizer,\n",
        "        model,\n",
        "        max_length: int = 60,\n",
        "        embedding_func: Optional[Callable[[torch.Tensor], torch.Tensor]] = None,\n",
        "    ):\n",
        "        self.tokenizer = tokenizer\n",
        "        self.model = model\n",
        "        self.model.eval()\n",
        "        self.max_length = max_length\n",
        "        self.embedding_func = embedding_func\n",
        "\n",
        "        if self.embedding_func is None:\n",
        "            self.embedding_func = lambda x: x[0][:, 0, :].squeeze()\n",
        "\n",
        "    def _tokenize(self, text: str) -> Tuple[torch.Tensor, torch.Tensor]:\n",
        "        # Tokenize the text with the provided tokenizer\n",
        "        tokenized_text = self.tokenizer.encode_plus(\n",
        "            text, add_special_tokens=True, max_length=self.max_length,truncation=True\n",
        "        )[\"input_ids\"]\n",
        "        \n",
        "        # padding\n",
        "        padded_text = tokenized_text + [0]*(self.max_length-len(tokenized_text))\n",
        "\n",
        "        # Create an attention mask telling BERT to use all words and ignore padded values\n",
        "        attention_mask = np.where(np.array(padded_text) != 0, 1, 0)\n",
        "\n",
        "        # bert takes in a batch so we need to unsqueeze the rows\n",
        "        return (\n",
        "            torch.tensor(padded_text).unsqueeze(0),\n",
        "            torch.tensor(attention_mask).unsqueeze(0),\n",
        "        )\n",
        "\n",
        "    def _tokenize_and_predict(self, text: str) -> torch.Tensor:\n",
        "        tokenized, attention_mask = self._tokenize(text)\n",
        "\n",
        "        embeddings = self.model(tokenized, attention_mask)\n",
        "        return self.embedding_func(embeddings)\n",
        "\n",
        "    def transform(self, text: List[str]):\n",
        "        if isinstance(text, pd.Series):\n",
        "            text = text.tolist()\n",
        "\n",
        "        with torch.no_grad():\n",
        "            return torch.stack([self._tokenize_and_predict(string) for string in text])\n",
        "\n",
        "    def fit(self, X, y=None):\n",
        "        \"\"\"No fitting necessary so we just return ourselves\"\"\"\n",
        "        return self\n",
        "    \n",
        "def calculate_classification_metrics(\n",
        "    y_true: np.array,\n",
        "    y_pred: np.array,\n",
        "    average: Optional[str] = None,\n",
        "    return_df: bool = True,\n",
        ") -> Union[Dict[str, float], pd.DataFrame]:\n",
        "    \"\"\"Computes f1, precision, recall, precision, kappa, accuracy, and support\n",
        "\n",
        "    Args:\n",
        "        y_true: The true labels\n",
        "        y_pred: The predicted labels\n",
        "        average: How to average multiclass results\n",
        "\n",
        "    Returns:\n",
        "        Either a dataframe of the performance metrics or a single dictionary\n",
        "    \"\"\"\n",
        "    labels = unique_labels(y_true, y_pred)\n",
        "\n",
        "    # get results\n",
        "    precision, recall, f_score, support = sk_metrics.precision_recall_fscore_support(\n",
        "        y_true, y_pred, labels=labels, average=average\n",
        "    )\n",
        "\n",
        "    kappa = sk_metrics.cohen_kappa_score(y_true, y_pred, labels=labels)\n",
        "    accuracy = sk_metrics.accuracy_score(y_true, y_pred)\n",
        "\n",
        "    # create a pandas DataFrame\n",
        "    if return_df:\n",
        "        results = pd.DataFrame(\n",
        "            {\n",
        "                \"class\": labels,\n",
        "                \"f_score\": f_score,\n",
        "                \"precision\": precision,\n",
        "                \"recall\": recall,\n",
        "                \"support\": support,\n",
        "                \"kappa\": kappa,\n",
        "                \"accuracy\": accuracy,\n",
        "            }\n",
        "        )\n",
        "    else:\n",
        "        results = {\n",
        "            \"f1\": f_score,\n",
        "            \"precision\": precision,\n",
        "            \"recall\": recall,\n",
        "            \"kappa\": kappa,\n",
        "            \"accuracy\": accuracy,\n",
        "        }\n",
        "\n",
        "    return results"
      ],
      "id": "0c861dac"
    },
    {
      "cell_type": "markdown",
      "metadata": {
        "id": "nH9bVOGsWTp0"
      },
      "source": [
        "## AraBERT embedding"
      ],
      "id": "nH9bVOGsWTp0"
    },
    {
      "cell_type": "code",
      "execution_count": null,
      "metadata": {
        "colab": {
          "base_uri": "https://localhost:8080/",
          "height": 156,
          "referenced_widgets": [
            "5de53ca8bb814c7bb3f03ed0fe1fe4cb",
            "2b7a31a9edab4546912acc88b0cc3827",
            "07df3fc6fb8749c59af0d2aae40ad71c",
            "3db4b8dd9feb4b0c9883633f3a868c69",
            "86e074254ddf4485ba5e9c08ed1fbed2",
            "934c853bdcbb4e3cb65344e2ff3c5e1b",
            "e3651fdf532540b9a44b26f2206edc6a",
            "b9d1e224d3bb4831bc14f330ffee6c66",
            "10a6a5939a694b86bee0786b15fe6beb",
            "d9071f8fc41b4595937a3a5900677683",
            "8a2e8d729c7349179ebaad88422f2917"
          ]
        },
        "id": "i7hftbmVWWwU",
        "outputId": "cfe74466-d4b2-4996-8aaf-f63a42dc424a"
      },
      "outputs": [
        {
          "output_type": "display_data",
          "data": {
            "text/plain": [
              "Downloading pytorch_model.bin:   0%|          | 0.00/543M [00:00<?, ?B/s]"
            ],
            "application/vnd.jupyter.widget-view+json": {
              "version_major": 2,
              "version_minor": 0,
              "model_id": "5de53ca8bb814c7bb3f03ed0fe1fe4cb"
            }
          },
          "metadata": {}
        },
        {
          "output_type": "stream",
          "name": "stderr",
          "text": [
            "Some weights of the model checkpoint at aubmindlab/bert-base-arabertv2 were not used when initializing BertModel: ['cls.predictions.transform.LayerNorm.weight', 'cls.predictions.bias', 'cls.predictions.transform.LayerNorm.bias', 'cls.seq_relationship.weight', 'cls.predictions.transform.dense.weight', 'cls.predictions.decoder.bias', 'cls.predictions.transform.dense.bias', 'cls.seq_relationship.bias', 'cls.predictions.decoder.weight']\n",
            "- This IS expected if you are initializing BertModel from the checkpoint of a model trained on another task or with another architecture (e.g. initializing a BertForSequenceClassification model from a BertForPreTraining model).\n",
            "- This IS NOT expected if you are initializing BertModel from the checkpoint of a model that you expect to be exactly identical (initializing a BertForSequenceClassification model from a BertForSequenceClassification model).\n",
            "<ipython-input-29-37db532cadec>:12: UserWarning: To copy construct from a tensor, it is recommended to use sourceTensor.clone().detach() or sourceTensor.clone().detach().requires_grad_(True), rather than torch.tensor(sourceTensor).\n",
            "  embeddings = bert_model(torch.tensor(tokenized_text.unsqueeze(0)))\n"
          ]
        }
      ],
      "source": [
        "tokenizer = BertTokenizer.from_pretrained(\"aubmindlab/bert-base-arabertv2\")\n",
        "tokenized_dict = tokenizer.encode_plus(\n",
        "    df_train[\"Review\"].tolist(),\n",
        "    add_special_tokens=True,\n",
        "    max_length=512,  # Set maximum sequence length here\n",
        "    truncation=True,\n",
        "    )\n",
        "\n",
        "bert_model = BertModel.from_pretrained(\"aubmindlab/bert-base-arabertv2\")\n",
        "tokenized_text = torch.tensor(tokenized_dict[\"input_ids\"])\n",
        "with torch.no_grad():\n",
        "  embeddings = bert_model(torch.tensor(tokenized_text.unsqueeze(0)))"
      ],
      "id": "i7hftbmVWWwU"
    },
    {
      "cell_type": "markdown",
      "metadata": {
        "id": "YcMg_LcGT5Rz"
      },
      "source": [
        "# Model classifier"
      ],
      "id": "YcMg_LcGT5Rz"
    },
    {
      "cell_type": "code",
      "execution_count": null,
      "metadata": {
        "id": "fV_gZfa9W22d"
      },
      "outputs": [],
      "source": [
        "#from sklearn import naive bayes\n",
        "from sklearn.naive_bayes import GaussianNB\n",
        "from sklearn.pipeline import FeatureUnion, Pipeline"
      ],
      "id": "fV_gZfa9W22d"
    },
    {
      "cell_type": "code",
      "execution_count": null,
      "metadata": {
        "colab": {
          "base_uri": "https://localhost:8080/"
        },
        "id": "O_gdAWGyW245",
        "outputId": "fc40dcdd-08c0-4594-a1ed-9e7ff4ef6500"
      },
      "outputs": [
        {
          "output_type": "stream",
          "name": "stdout",
          "text": [
            "End of iteration 1, added 1412 new labels.\n",
            "End of iteration 2, added 62 new labels.\n"
          ]
        }
      ],
      "source": [
        "X_train=df_train['Review']\n",
        "y_train=df_train['Label'].values\n",
        "\n",
        "X_test=df_test['Review']\n",
        "y_test=df_test['Label'].values\n",
        "\n",
        "bert_transformer = BertTransformer(tokenizer, bert_model)\n",
        "\n",
        "## SVM model\n",
        "#model_svc = SVC(kernel='rbf', \n",
        "                #probability=True,\n",
        "                #C=1.0, \n",
        "                #gamma='scale', \n",
        "                #random_state=0\n",
        "               #)\n",
        "# Naive Bayes model\n",
        "model_gnb = GaussianNB()\n",
        "\n",
        "# Self training classifier\n",
        "classifier = SelfTrainingClassifier(base_estimator=model_gnb,\n",
        "                                             threshold=0.9,\n",
        "                                             criterion='threshold',\n",
        "                                             #k_best=50, \n",
        "                                             max_iter=100, \n",
        "                                             verbose=True\n",
        "                                            )\n",
        "model = Pipeline(\n",
        "    [\n",
        "        (\"vectorizer\", bert_transformer),\n",
        "        (\"classifier\", classifier),\n",
        "    ]\n",
        ")\n",
        "\n",
        "clf_ST = model.fit(X_train, y_train)"
      ],
      "id": "O_gdAWGyW245"
    },
    {
      "cell_type": "code",
      "execution_count": null,
      "metadata": {
        "id": "6BDrQq0PxyH8",
        "colab": {
          "base_uri": "https://localhost:8080/"
        },
        "outputId": "7e9b7bca-5a8c-4315-e204-e5188401201b"
      },
      "outputs": [
        {
          "output_type": "stream",
          "name": "stdout",
          "text": [
            "---------- Self Training Model - Summary ----------\n",
            "Classes:  [0 1]\n",
            "---------- Self Training Model - Evaluation on Test Data ----------\n",
            "F1 Score: 0.18090682248040083\n",
            "              precision    recall  f1-score   support\n",
            "\n",
            "          -1       0.00      0.00      0.00       363\n",
            "           0       0.41      0.81      0.55       156\n",
            "           1       0.17      0.38      0.23       169\n",
            "\n",
            "    accuracy                           0.28       688\n",
            "   macro avg       0.19      0.40      0.26       688\n",
            "weighted avg       0.13      0.28      0.18       688\n",
            "\n"
          ]
        },
        {
          "output_type": "stream",
          "name": "stderr",
          "text": [
            "/usr/local/lib/python3.9/dist-packages/sklearn/metrics/_classification.py:1344: UndefinedMetricWarning: Precision and F-score are ill-defined and being set to 0.0 in labels with no predicted samples. Use `zero_division` parameter to control this behavior.\n",
            "  _warn_prf(average, modifier, msg_start, len(result))\n",
            "/usr/local/lib/python3.9/dist-packages/sklearn/metrics/_classification.py:1344: UndefinedMetricWarning: Precision and F-score are ill-defined and being set to 0.0 in labels with no predicted samples. Use `zero_division` parameter to control this behavior.\n",
            "  _warn_prf(average, modifier, msg_start, len(result))\n",
            "/usr/local/lib/python3.9/dist-packages/sklearn/metrics/_classification.py:1344: UndefinedMetricWarning: Precision and F-score are ill-defined and being set to 0.0 in labels with no predicted samples. Use `zero_division` parameter to control this behavior.\n",
            "  _warn_prf(average, modifier, msg_start, len(result))\n"
          ]
        }
      ],
      "source": [
        "print('---------- Self Training Model - Summary ----------')\n",
        "\n",
        "print('Classes: ', clf_ST.classes_)\n",
        "\n",
        "print('---------- Self Training Model - Evaluation on Test Data ----------')\n",
        "#accuracy_score_ST = clf_ST.score(X_test, y_test)\n",
        "#print('Accuracy Score: ', accuracy_score_ST)\n",
        "y_pred = clf_ST.predict(X_test)\n",
        "f1 = f1_score(y_test, y_pred, average='weighted')\n",
        "print(\"F1 Score:\", f1)\n",
        "\n",
        "# Look at classification report to evaluate the model\n",
        "print(classification_report(y_test, clf_ST.predict(X_test)))"
      ],
      "id": "6BDrQq0PxyH8"
    },
    {
      "cell_type": "code",
      "source": [
        "#graphe"
      ],
      "metadata": {
        "id": "xS7uZxI2EbEi"
      },
      "id": "xS7uZxI2EbEi",
      "execution_count": null,
      "outputs": []
    }
  ],
  "metadata": {
    "accelerator": "GPU",
    "colab": {
      "provenance": [],
      "include_colab_link": true
    },
    "gpuClass": "standard",
    "kernelspec": {
      "display_name": "Python 3 (ipykernel)",
      "language": "python",
      "name": "python3"
    },
    "language_info": {
      "codemirror_mode": {
        "name": "ipython",
        "version": 3
      },
      "file_extension": ".py",
      "mimetype": "text/x-python",
      "name": "python",
      "nbconvert_exporter": "python",
      "pygments_lexer": "ipython3",
      "version": "3.9.12"
    },
    "vscode": {
      "interpreter": {
        "hash": "73cec5994d92712fcda2ca8ea57ce6c0e579c55ad7f5ab9d7dbfd99192d6d4d7"
      }
    },
    "widgets": {
      "application/vnd.jupyter.widget-state+json": {
        "5de53ca8bb814c7bb3f03ed0fe1fe4cb": {
          "model_module": "@jupyter-widgets/controls",
          "model_name": "HBoxModel",
          "model_module_version": "1.5.0",
          "state": {
            "_dom_classes": [],
            "_model_module": "@jupyter-widgets/controls",
            "_model_module_version": "1.5.0",
            "_model_name": "HBoxModel",
            "_view_count": null,
            "_view_module": "@jupyter-widgets/controls",
            "_view_module_version": "1.5.0",
            "_view_name": "HBoxView",
            "box_style": "",
            "children": [
              "IPY_MODEL_2b7a31a9edab4546912acc88b0cc3827",
              "IPY_MODEL_07df3fc6fb8749c59af0d2aae40ad71c",
              "IPY_MODEL_3db4b8dd9feb4b0c9883633f3a868c69"
            ],
            "layout": "IPY_MODEL_86e074254ddf4485ba5e9c08ed1fbed2"
          }
        },
        "2b7a31a9edab4546912acc88b0cc3827": {
          "model_module": "@jupyter-widgets/controls",
          "model_name": "HTMLModel",
          "model_module_version": "1.5.0",
          "state": {
            "_dom_classes": [],
            "_model_module": "@jupyter-widgets/controls",
            "_model_module_version": "1.5.0",
            "_model_name": "HTMLModel",
            "_view_count": null,
            "_view_module": "@jupyter-widgets/controls",
            "_view_module_version": "1.5.0",
            "_view_name": "HTMLView",
            "description": "",
            "description_tooltip": null,
            "layout": "IPY_MODEL_934c853bdcbb4e3cb65344e2ff3c5e1b",
            "placeholder": "​",
            "style": "IPY_MODEL_e3651fdf532540b9a44b26f2206edc6a",
            "value": "Downloading pytorch_model.bin: 100%"
          }
        },
        "07df3fc6fb8749c59af0d2aae40ad71c": {
          "model_module": "@jupyter-widgets/controls",
          "model_name": "FloatProgressModel",
          "model_module_version": "1.5.0",
          "state": {
            "_dom_classes": [],
            "_model_module": "@jupyter-widgets/controls",
            "_model_module_version": "1.5.0",
            "_model_name": "FloatProgressModel",
            "_view_count": null,
            "_view_module": "@jupyter-widgets/controls",
            "_view_module_version": "1.5.0",
            "_view_name": "ProgressView",
            "bar_style": "success",
            "description": "",
            "description_tooltip": null,
            "layout": "IPY_MODEL_b9d1e224d3bb4831bc14f330ffee6c66",
            "max": 543490667,
            "min": 0,
            "orientation": "horizontal",
            "style": "IPY_MODEL_10a6a5939a694b86bee0786b15fe6beb",
            "value": 543490667
          }
        },
        "3db4b8dd9feb4b0c9883633f3a868c69": {
          "model_module": "@jupyter-widgets/controls",
          "model_name": "HTMLModel",
          "model_module_version": "1.5.0",
          "state": {
            "_dom_classes": [],
            "_model_module": "@jupyter-widgets/controls",
            "_model_module_version": "1.5.0",
            "_model_name": "HTMLModel",
            "_view_count": null,
            "_view_module": "@jupyter-widgets/controls",
            "_view_module_version": "1.5.0",
            "_view_name": "HTMLView",
            "description": "",
            "description_tooltip": null,
            "layout": "IPY_MODEL_d9071f8fc41b4595937a3a5900677683",
            "placeholder": "​",
            "style": "IPY_MODEL_8a2e8d729c7349179ebaad88422f2917",
            "value": " 543M/543M [00:04&lt;00:00, 126MB/s]"
          }
        },
        "86e074254ddf4485ba5e9c08ed1fbed2": {
          "model_module": "@jupyter-widgets/base",
          "model_name": "LayoutModel",
          "model_module_version": "1.2.0",
          "state": {
            "_model_module": "@jupyter-widgets/base",
            "_model_module_version": "1.2.0",
            "_model_name": "LayoutModel",
            "_view_count": null,
            "_view_module": "@jupyter-widgets/base",
            "_view_module_version": "1.2.0",
            "_view_name": "LayoutView",
            "align_content": null,
            "align_items": null,
            "align_self": null,
            "border": null,
            "bottom": null,
            "display": null,
            "flex": null,
            "flex_flow": null,
            "grid_area": null,
            "grid_auto_columns": null,
            "grid_auto_flow": null,
            "grid_auto_rows": null,
            "grid_column": null,
            "grid_gap": null,
            "grid_row": null,
            "grid_template_areas": null,
            "grid_template_columns": null,
            "grid_template_rows": null,
            "height": null,
            "justify_content": null,
            "justify_items": null,
            "left": null,
            "margin": null,
            "max_height": null,
            "max_width": null,
            "min_height": null,
            "min_width": null,
            "object_fit": null,
            "object_position": null,
            "order": null,
            "overflow": null,
            "overflow_x": null,
            "overflow_y": null,
            "padding": null,
            "right": null,
            "top": null,
            "visibility": null,
            "width": null
          }
        },
        "934c853bdcbb4e3cb65344e2ff3c5e1b": {
          "model_module": "@jupyter-widgets/base",
          "model_name": "LayoutModel",
          "model_module_version": "1.2.0",
          "state": {
            "_model_module": "@jupyter-widgets/base",
            "_model_module_version": "1.2.0",
            "_model_name": "LayoutModel",
            "_view_count": null,
            "_view_module": "@jupyter-widgets/base",
            "_view_module_version": "1.2.0",
            "_view_name": "LayoutView",
            "align_content": null,
            "align_items": null,
            "align_self": null,
            "border": null,
            "bottom": null,
            "display": null,
            "flex": null,
            "flex_flow": null,
            "grid_area": null,
            "grid_auto_columns": null,
            "grid_auto_flow": null,
            "grid_auto_rows": null,
            "grid_column": null,
            "grid_gap": null,
            "grid_row": null,
            "grid_template_areas": null,
            "grid_template_columns": null,
            "grid_template_rows": null,
            "height": null,
            "justify_content": null,
            "justify_items": null,
            "left": null,
            "margin": null,
            "max_height": null,
            "max_width": null,
            "min_height": null,
            "min_width": null,
            "object_fit": null,
            "object_position": null,
            "order": null,
            "overflow": null,
            "overflow_x": null,
            "overflow_y": null,
            "padding": null,
            "right": null,
            "top": null,
            "visibility": null,
            "width": null
          }
        },
        "e3651fdf532540b9a44b26f2206edc6a": {
          "model_module": "@jupyter-widgets/controls",
          "model_name": "DescriptionStyleModel",
          "model_module_version": "1.5.0",
          "state": {
            "_model_module": "@jupyter-widgets/controls",
            "_model_module_version": "1.5.0",
            "_model_name": "DescriptionStyleModel",
            "_view_count": null,
            "_view_module": "@jupyter-widgets/base",
            "_view_module_version": "1.2.0",
            "_view_name": "StyleView",
            "description_width": ""
          }
        },
        "b9d1e224d3bb4831bc14f330ffee6c66": {
          "model_module": "@jupyter-widgets/base",
          "model_name": "LayoutModel",
          "model_module_version": "1.2.0",
          "state": {
            "_model_module": "@jupyter-widgets/base",
            "_model_module_version": "1.2.0",
            "_model_name": "LayoutModel",
            "_view_count": null,
            "_view_module": "@jupyter-widgets/base",
            "_view_module_version": "1.2.0",
            "_view_name": "LayoutView",
            "align_content": null,
            "align_items": null,
            "align_self": null,
            "border": null,
            "bottom": null,
            "display": null,
            "flex": null,
            "flex_flow": null,
            "grid_area": null,
            "grid_auto_columns": null,
            "grid_auto_flow": null,
            "grid_auto_rows": null,
            "grid_column": null,
            "grid_gap": null,
            "grid_row": null,
            "grid_template_areas": null,
            "grid_template_columns": null,
            "grid_template_rows": null,
            "height": null,
            "justify_content": null,
            "justify_items": null,
            "left": null,
            "margin": null,
            "max_height": null,
            "max_width": null,
            "min_height": null,
            "min_width": null,
            "object_fit": null,
            "object_position": null,
            "order": null,
            "overflow": null,
            "overflow_x": null,
            "overflow_y": null,
            "padding": null,
            "right": null,
            "top": null,
            "visibility": null,
            "width": null
          }
        },
        "10a6a5939a694b86bee0786b15fe6beb": {
          "model_module": "@jupyter-widgets/controls",
          "model_name": "ProgressStyleModel",
          "model_module_version": "1.5.0",
          "state": {
            "_model_module": "@jupyter-widgets/controls",
            "_model_module_version": "1.5.0",
            "_model_name": "ProgressStyleModel",
            "_view_count": null,
            "_view_module": "@jupyter-widgets/base",
            "_view_module_version": "1.2.0",
            "_view_name": "StyleView",
            "bar_color": null,
            "description_width": ""
          }
        },
        "d9071f8fc41b4595937a3a5900677683": {
          "model_module": "@jupyter-widgets/base",
          "model_name": "LayoutModel",
          "model_module_version": "1.2.0",
          "state": {
            "_model_module": "@jupyter-widgets/base",
            "_model_module_version": "1.2.0",
            "_model_name": "LayoutModel",
            "_view_count": null,
            "_view_module": "@jupyter-widgets/base",
            "_view_module_version": "1.2.0",
            "_view_name": "LayoutView",
            "align_content": null,
            "align_items": null,
            "align_self": null,
            "border": null,
            "bottom": null,
            "display": null,
            "flex": null,
            "flex_flow": null,
            "grid_area": null,
            "grid_auto_columns": null,
            "grid_auto_flow": null,
            "grid_auto_rows": null,
            "grid_column": null,
            "grid_gap": null,
            "grid_row": null,
            "grid_template_areas": null,
            "grid_template_columns": null,
            "grid_template_rows": null,
            "height": null,
            "justify_content": null,
            "justify_items": null,
            "left": null,
            "margin": null,
            "max_height": null,
            "max_width": null,
            "min_height": null,
            "min_width": null,
            "object_fit": null,
            "object_position": null,
            "order": null,
            "overflow": null,
            "overflow_x": null,
            "overflow_y": null,
            "padding": null,
            "right": null,
            "top": null,
            "visibility": null,
            "width": null
          }
        },
        "8a2e8d729c7349179ebaad88422f2917": {
          "model_module": "@jupyter-widgets/controls",
          "model_name": "DescriptionStyleModel",
          "model_module_version": "1.5.0",
          "state": {
            "_model_module": "@jupyter-widgets/controls",
            "_model_module_version": "1.5.0",
            "_model_name": "DescriptionStyleModel",
            "_view_count": null,
            "_view_module": "@jupyter-widgets/base",
            "_view_module_version": "1.2.0",
            "_view_name": "StyleView",
            "description_width": ""
          }
        }
      }
    }
  },
  "nbformat": 4,
  "nbformat_minor": 5
}